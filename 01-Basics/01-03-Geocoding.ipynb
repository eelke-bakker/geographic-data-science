{
 "cells": [
  {
   "cell_type": "markdown",
   "metadata": {},
   "source": [
    "# 01-03 Geocoding\n",
    "\n",
    "Sometimes you might encounter a dataset that does not yet contain a geometry column or latitude and longitude information. However, you might have information on certain addresses. In that case, it might be useful to apply geocoding. \n",
    "\n",
    "__Geocoding__: refers to the process of taking an address and mapping it to a location on the Earth's surface. \n",
    "\n",
    "To perform Geocoding in Python, you can make use of the _Geopandas_ as well as _Geopy_"
   ]
  },
  {
   "cell_type": "code",
   "execution_count": 44,
   "metadata": {},
   "outputs": [],
   "source": [
    "import pandas as pd\n",
    "import geopandas as gpd\n",
    "import geopy\n",
    "from geopy.geocoders import Nominatim\n",
    "from geopy.extra.rate_limiter import RateLimiter\n",
    "from shapely.geometry import Point\n",
    "\n",
    "import matplotlib.pyplot as plt\n",
    "import plotly_express as px\n",
    "import folium\n",
    "\n",
    "# progress bar\n",
    "import tqdm\n",
    "from tqdm import tqdm\n",
    "from tqdm._tqdm_notebook import tqdm_notebook"
   ]
  },
  {
   "cell_type": "markdown",
   "metadata": {},
   "source": [
    "## 1. A simple example\n",
    "\n",
    "Geopy has a number of Geocoding services you can choose from, usch as Google Maps, ArcGIS etc.. (NOTE: some ofthese need an API key!). A common choice is to use the Nominatim Geocoding service. This service is built on top of OpenStreetMap data. You can call this service in python using ``Nominatim(user_agent=\"myGeocoder\")``\n",
    "\n",
    "Let's say you want to get the location of the following address: \n",
    "\n",
    "_Soembastraat 53, 1782SM, Den Helder, Netherlands_\n",
    "\n",
    "Then what you do is:"
   ]
  },
  {
   "cell_type": "code",
   "execution_count": 5,
   "metadata": {},
   "outputs": [
    {
     "name": "stdout",
     "output_type": "stream",
     "text": [
      "Latitude = 52.9581664, Longitude = 4.7528677\n"
     ]
    }
   ],
   "source": [
    "# Define the locator\n",
    "locator = Nominatim(user_agent=\"myGeocoder\")\n",
    "address = 'Soembastraat 53, 1782SM, Den Helder, Netherlands'\n",
    "location = locator.geocode(address)\n",
    "\n",
    "# Then, you can print the coordinates:\n",
    "print(\"Latitude = {}, Longitude = {}\".format(location.latitude, location.longitude))"
   ]
  },
  {
   "cell_type": "markdown",
   "metadata": {},
   "source": [
    "## 2. An example with multiple addresses\n",
    "\n",
    "However, often it happens that you don't just have one  single address, but multiple addresses stored in a csv file.\n",
    "For example, the _addresses.csv_ file that is in the Data folder, contains 25 different addresses.\n",
    "In that case, you can do the following:\n",
    "\n",
    "1. Create a column that contains addresses in the suitable format\n",
    "2. Create the geocoder using the RateLimiter and adding a delay of 1 second\n",
    "3. Apply the geocoder and add a location column\n",
    "4. From the location column, get a tuple point column\n",
    "5. From this tuple column, get new columns containing separate lat, lon and altitude\n",
    "\n",
    "If the address is not found, it returns _None_."
   ]
  },
  {
   "cell_type": "code",
   "execution_count": 27,
   "metadata": {
    "scrolled": true
   },
   "outputs": [],
   "source": [
    "# Let's say you have the following dataset:\n",
    "df = pd.read_csv('../Data/addresses.csv')\n",
    "\n",
    "## 1. ##\n",
    "df['address'] = df['Address1']+','+df['Address3']+','+df['Address4']+','+df['Address5']+', Sweden'\n",
    "\n",
    "## 2. ##\n",
    "# convenient function to delay between geocoding calls. So now there is a delay of 1 second between each address.\n",
    "geocode = RateLimiter(locator.geocode, min_delay_seconds=1)\n",
    "\n",
    "## 3. ##\n",
    "# create location column in the dataset, this is where the geographical information will go.\n",
    "df['location'] = df['address'].apply(geocode)\n",
    "\n",
    "## 4. ##\n",
    "# create longitude, latitude and altitude from location column (returns tuple)\n",
    "df['point'] = df['location'].apply(lambda loc: tuple(loc.point) if loc else None)\n",
    "\n",
    "## 5. ##\n",
    "# split point column into latitude, longitude and altitude columns\n",
    "df[['latitude', 'longitude', 'altitude']] = pd.DataFrame(df['point'].tolist(), index=df.index)"
   ]
  },
  {
   "cell_type": "code",
   "execution_count": 28,
   "metadata": {
    "scrolled": true
   },
   "outputs": [],
   "source": [
    "# Now let's make a selection\n",
    "df = df.drop(['Address1','Address3','Address4','Address5','Telefon','address','location','point'], axis=1)\n",
    "\n",
    "# And drop the ones for which we didn't find addresses\n",
    "df = df.dropna(subset=['latitude'])"
   ]
  },
  {
   "cell_type": "markdown",
   "metadata": {},
   "source": [
    "## 3. Turning this normal DataFrame into a GeoDataFrame\n",
    "\n",
    "Now we do have the latitude and longitude, but we want to turn this into a geodataframe which also contains a geometry column. To do that, we simply use ``gpd.GeoDataFrame(df, geometry=gpd.points_from_xy(df.lon, df.lat))``, or alternatively, you can first assign the geometry to a variable and then add that to the ``GeoDataFrame()`` function."
   ]
  },
  {
   "cell_type": "code",
   "execution_count": 48,
   "metadata": {},
   "outputs": [],
   "source": [
    "# Method 1\n",
    "gdf = gpd.GeoDataFrame(df, geometry=gpd.points_from_xy(df.longitude, df.latitude))\n",
    "gdf.crs = {'init':'epsg:3395'}\n",
    "\n",
    "# or Method 2\n",
    "geometry = [Point(xy) for xy in zip(df.longitude, df.latitude)]\n",
    "gdf2 = gpd.GeoDataFrame(df, geometry=geometry)\n",
    "gdf2.crs = {'init' :'epsg:3395'}  "
   ]
  },
  {
   "cell_type": "markdown",
   "metadata": {},
   "source": [
    "Then again, it's possible to plot the addresses we have found onto a map."
   ]
  },
  {
   "cell_type": "code",
   "execution_count": 49,
   "metadata": {},
   "outputs": [
    {
     "name": "stdout",
     "output_type": "stream",
     "text": [
      "{'init': 'epsg:3395'}\n",
      "{'init': 'epsg:3395'}\n"
     ]
    }
   ],
   "source": [
    "print(gdf.crs)\n",
    "print(gdf2.crs)"
   ]
  },
  {
   "cell_type": "markdown",
   "metadata": {},
   "source": [
    "## 4. Reverse GeoCoding\n",
    "\n",
    "On the other hand, it might also be possible that we have coordinates but don't have addresses. In that case, we can use Reverse GeoCoding. Again, we create a Nominatim Geocoder, except now we use ``locator.reverse()``."
   ]
  },
  {
   "cell_type": "code",
   "execution_count": 51,
   "metadata": {},
   "outputs": [
    {
     "name": "stdout",
     "output_type": "stream",
     "text": [
      "Eagle Insurance Buildings, 68, Cross Street, City Centre, Manchester, Greater Manchester, North West England, England, M2 4JG, United Kingdom\n"
     ]
    }
   ],
   "source": [
    "locator = Nominatim(user_agent=\"myGeocoder\")\n",
    "coordinates = \"53.480837, -2.244914\"\n",
    "location = locator.reverse(coordinates)\n",
    "\n",
    "print(location.address)"
   ]
  }
 ],
 "metadata": {
  "kernelspec": {
   "display_name": "Python 3",
   "language": "python",
   "name": "python3"
  },
  "language_info": {
   "codemirror_mode": {
    "name": "ipython",
    "version": 3
   },
   "file_extension": ".py",
   "mimetype": "text/x-python",
   "name": "python",
   "nbconvert_exporter": "python",
   "pygments_lexer": "ipython3",
   "version": "3.7.3"
  }
 },
 "nbformat": 4,
 "nbformat_minor": 2
}
