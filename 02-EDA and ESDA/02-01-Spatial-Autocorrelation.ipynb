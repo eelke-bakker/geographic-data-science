{
 "cells": [
  {
   "cell_type": "markdown",
   "metadata": {},
   "source": [
    "# 02-01 Spatial Autocorrelation\n",
    "\n",
    "When you normally perform an Exploratory Data Analysis, you often look at the correlation between different variables. This tells you something about the relations between them. However, when you are working with spatial data, the usual statistical correlation methods cannot be applied. Instead, you can use something called __Spatial Autocorrelation__ to correlate a specific variable to a location.\n",
    "\n",
    "Spatial Autocorrelation tells you something about the presence of spatial variations in a given variable. \n",
    "\n",
    "* Positive spatial Autocorrelation means that areas close to each other have similar values. \n",
    "* Negative spatial Autocorrelation means that areas close to each other tend to be different.\n",
    "\n",
    "You can perform _global_ and _local_ spatial autocorrelation. For this we use the Python Spatial Analysis Library (Pysal)"
   ]
  },
  {
   "cell_type": "code",
   "execution_count": 2,
   "metadata": {},
   "outputs": [
    {
     "name": "stderr",
     "output_type": "stream",
     "text": [
      "C:\\Users\\20194136\\Anaconda\\lib\\site-packages\\pysal\\explore\\segregation\\network\\network.py:16: UserWarning: You need pandana and urbanaccess to work with segregation's network module\n",
      "You can install them with  `pip install urbanaccess pandana` or `conda install -c udst pandana urbanaccess`\n",
      "  \"You need pandana and urbanaccess to work with segregation's network module\\n\"\n",
      "C:\\Users\\20194136\\Anaconda\\lib\\site-packages\\pysal\\model\\spvcm\\abstracts.py:10: UserWarning: The `dill` module is required to use the sqlite backend fully.\n",
      "  from .sqlite import head_to_sql, start_sql\n"
     ]
    },
    {
     "ename": "ImportError",
     "evalue": "cannot import name 'esda' from 'pysal' (C:\\Users\\20194136\\Anaconda\\lib\\site-packages\\pysal\\__init__.py)",
     "output_type": "error",
     "traceback": [
      "\u001b[1;31m---------------------------------------------------------------------------\u001b[0m",
      "\u001b[1;31mImportError\u001b[0m                               Traceback (most recent call last)",
      "\u001b[1;32m<ipython-input-2-35404c9aa0d8>\u001b[0m in \u001b[0;36m<module>\u001b[1;34m\u001b[0m\n\u001b[0;32m      3\u001b[0m \u001b[1;32mimport\u001b[0m \u001b[0mmatplotlib\u001b[0m\u001b[1;33m.\u001b[0m\u001b[0mpyplot\u001b[0m \u001b[1;32mas\u001b[0m \u001b[0mplt\u001b[0m\u001b[1;33m\u001b[0m\u001b[1;33m\u001b[0m\u001b[0m\n\u001b[0;32m      4\u001b[0m \u001b[1;32mimport\u001b[0m \u001b[0mpysal\u001b[0m\u001b[1;33m\u001b[0m\u001b[1;33m\u001b[0m\u001b[0m\n\u001b[1;32m----> 5\u001b[1;33m \u001b[1;32mfrom\u001b[0m \u001b[0mpysal\u001b[0m \u001b[1;32mimport\u001b[0m \u001b[0mesda\u001b[0m\u001b[1;33m,\u001b[0m \u001b[0mweights\u001b[0m\u001b[1;33m\u001b[0m\u001b[1;33m\u001b[0m\u001b[0m\n\u001b[0m\u001b[0;32m      6\u001b[0m \u001b[1;32mfrom\u001b[0m \u001b[0mesda\u001b[0m\u001b[1;33m.\u001b[0m\u001b[0mmoran\u001b[0m \u001b[1;32mimport\u001b[0m \u001b[0mMoran\u001b[0m\u001b[1;33m,\u001b[0m \u001b[0mMoran_Local\u001b[0m\u001b[1;33m\u001b[0m\u001b[1;33m\u001b[0m\u001b[0m\n\u001b[0;32m      7\u001b[0m \u001b[1;32mimport\u001b[0m \u001b[0msplot\u001b[0m\u001b[1;33m\u001b[0m\u001b[1;33m\u001b[0m\u001b[0m\n",
      "\u001b[1;31mImportError\u001b[0m: cannot import name 'esda' from 'pysal' (C:\\Users\\20194136\\Anaconda\\lib\\site-packages\\pysal\\__init__.py)"
     ]
    }
   ],
   "source": [
    "import pandas as pd\n",
    "import geopandas as gpd\n",
    "import matplotlib.pyplot as plt\n",
    "import pysal\n",
    "from pysal import esda, weights\n",
    "from esda.moran import Moran, Moran_Local\n",
    "import splot\n",
    "from splot.esda import moran_scatterplot, plot_moran, lisa_cluster"
   ]
  }
 ],
 "metadata": {
  "kernelspec": {
   "display_name": "Python 3",
   "language": "python",
   "name": "python3"
  },
  "language_info": {
   "codemirror_mode": {
    "name": "ipython",
    "version": 3
   },
   "file_extension": ".py",
   "mimetype": "text/x-python",
   "name": "python",
   "nbconvert_exporter": "python",
   "pygments_lexer": "ipython3",
   "version": "3.7.3"
  }
 },
 "nbformat": 4,
 "nbformat_minor": 2
}
